{
  "nbformat": 4,
  "nbformat_minor": 0,
  "metadata": {
    "colab": {
      "provenance": []
    },
    "kernelspec": {
      "name": "python3",
      "display_name": "Python 3"
    },
    "language_info": {
      "name": "python"
    }
  },
  "cells": [
    {
      "cell_type": "code",
      "execution_count": 2,
      "metadata": {
        "colab": {
          "base_uri": "https://localhost:8080/"
        },
        "id": "v4VwtIpUaWsg",
        "outputId": "f6c44684-d031-4d17-afee-6081c7bd37e0"
      },
      "outputs": [
        {
          "output_type": "stream",
          "name": "stdout",
          "text": [
            "Collecting faker\n",
            "  Downloading faker-37.6.0-py3-none-any.whl.metadata (15 kB)\n",
            "Requirement already satisfied: tzdata in /usr/local/lib/python3.12/dist-packages (from faker) (2025.2)\n",
            "Downloading faker-37.6.0-py3-none-any.whl (1.9 MB)\n",
            "\u001b[?25l   \u001b[90m━━━━━━━━━━━━━━━━━━━━━━━━━━━━━━━━━━━━━━━━\u001b[0m \u001b[32m0.0/1.9 MB\u001b[0m \u001b[31m?\u001b[0m eta \u001b[36m-:--:--\u001b[0m\r\u001b[2K   \u001b[91m━━━━━━━━━━━━━━━\u001b[0m\u001b[91m╸\u001b[0m\u001b[90m━━━━━━━━━━━━━━━━━━━━━━━━\u001b[0m \u001b[32m0.8/1.9 MB\u001b[0m \u001b[31m23.1 MB/s\u001b[0m eta \u001b[36m0:00:01\u001b[0m\r\u001b[2K   \u001b[90m━━━━━━━━━━━━━━━━━━━━━━━━━━━━━━━━━━━━━━━━\u001b[0m \u001b[32m1.9/1.9 MB\u001b[0m \u001b[31m29.9 MB/s\u001b[0m eta \u001b[36m0:00:00\u001b[0m\n",
            "\u001b[?25hInstalling collected packages: faker\n",
            "Successfully installed faker-37.6.0\n"
          ]
        }
      ],
      "source": [
        "%pip install faker\n",
        "import pandas as pd\n",
        "import numpy as np\n",
        "import random\n",
        "from faker import Faker\n",
        "from datetime import datetime, timedelta"
      ]
    },
    {
      "cell_type": "code",
      "source": [
        "fake = Faker()\n",
        "\n",
        "# Parameters\n",
        "num_customers = 200\n",
        "num_products = 100\n",
        "num_orders = 5000\n"
      ],
      "metadata": {
        "id": "x1Sl69fvajQY"
      },
      "execution_count": 3,
      "outputs": []
    },
    {
      "cell_type": "code",
      "source": [
        "# --- Customers Table ---\n",
        "segments = [\"Consumer\", \"Corporate\", \"Small Business\"]\n",
        "regions = [\"North\", \"South\", \"East\", \"West\"]\n",
        "\n",
        "customers = []\n",
        "for i in range(1, num_customers+1):\n",
        "    customers.append([\n",
        "        i,\n",
        "        fake.name(),\n",
        "        random.choice(segments),\n",
        "        random.choice(regions)\n",
        "    ])\n",
        "\n",
        "customers_df = pd.DataFrame(customers, columns=[\"CustomerID\", \"Name\", \"Segment\", \"Region\"])"
      ],
      "metadata": {
        "id": "-wxrSqsRa9X-"
      },
      "execution_count": 4,
      "outputs": []
    },
    {
      "cell_type": "code",
      "source": [
        "# --- Products Table ---\n",
        "categories = {\n",
        "    \"Electronics\": [\"Laptop\", \"Phone\", \"Tablet\", \"Monitor\"],\n",
        "    \"Furniture\": [\"Chair\", \"Desk\", \"Cabinet\", \"Couch\"],\n",
        "    \"Office Supplies\": [\"Pen\", \"Notebook\", \"Paper\", \"Stapler\"],\n",
        "    \"Clothing\": [\"Shirt\", \"Jeans\", \"Jacket\", \"Shoes\"]\n",
        "}\n",
        "\n",
        "products = []\n",
        "for i in range(1, num_products+1):\n",
        "    category = random.choice(list(categories.keys()))\n",
        "    subcategory = random.choice(categories[category])\n",
        "    price = round(random.uniform(10, 2000), 2)\n",
        "    products.append([i, category, subcategory, price])\n",
        "\n",
        "products_df = pd.DataFrame(products, columns=[\"ProductID\", \"Category\", \"SubCategory\", \"Price\"])"
      ],
      "metadata": {
        "id": "VITNaRWEbDpa"
      },
      "execution_count": 5,
      "outputs": []
    },
    {
      "cell_type": "code",
      "source": [
        "# --- Orders Table ---\n",
        "orders = []\n",
        "start_date = datetime(2022, 1, 1)\n",
        "end_date = datetime(2024, 12, 31)\n",
        "\n",
        "for i in range(1, num_orders+1):\n",
        "    cust_id = random.randint(1, num_customers)\n",
        "    prod_id = random.randint(1, num_products)\n",
        "    order_date = start_date + timedelta(days=random.randint(0, (end_date-start_date).days))\n",
        "    quantity = random.randint(1, 5)\n",
        "    discount = round(random.uniform(0, 0.3), 2)\n",
        "    price = products_df.loc[products_df[\"ProductID\"] == prod_id, \"Price\"].values[0]\n",
        "    sales = round(quantity * price * (1 - discount), 2)\n",
        "    profit = round(sales * random.uniform(0.05, 0.3), 2)\n",
        "    orders.append([i, cust_id, prod_id, order_date, quantity, discount, sales, profit])\n",
        "\n",
        "orders_df = pd.DataFrame(orders, columns=[\"OrderID\", \"CustomerID\", \"ProductID\", \"OrderDate\", \"Quantity\", \"Discount\", \"Sales\", \"Profit\"])"
      ],
      "metadata": {
        "id": "aUssVqKIbH30"
      },
      "execution_count": 6,
      "outputs": []
    },
    {
      "cell_type": "code",
      "source": [
        "# --- Save to CSV ---\n",
        "customers_df.to_csv(\"customers.csv\", index=False)\n",
        "products_df.to_csv(\"products.csv\", index=False)\n",
        "orders_df.to_csv(\"orders.csv\", index=False)\n",
        "\n",
        "print(\"Synthetic dataset generated: customers.csv, products.csv, orders.csv\")"
      ],
      "metadata": {
        "colab": {
          "base_uri": "https://localhost:8080/"
        },
        "id": "awN5Wa21bLvw",
        "outputId": "c94b7db8-725a-40e9-c9b6-9c276c0fedec"
      },
      "execution_count": 7,
      "outputs": [
        {
          "output_type": "stream",
          "name": "stdout",
          "text": [
            "Synthetic dataset generated: customers.csv, products.csv, orders.csv\n"
          ]
        }
      ]
    }
  ]
}